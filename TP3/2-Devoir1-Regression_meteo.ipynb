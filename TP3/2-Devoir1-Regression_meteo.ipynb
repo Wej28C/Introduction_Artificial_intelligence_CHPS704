{
  "cells": [
    {
      "cell_type": "markdown",
      "metadata": {
        "id": "view-in-github",
        "colab_type": "text"
      },
      "source": [
        "<a href=\"https://colab.research.google.com/github/Wej28C/Introduction_Artificial_intelligence_CHPS704/blob/main/TP3/2-Devoir1-Regression_meteo.ipynb\" target=\"_parent\"><img src=\"https://colab.research.google.com/assets/colab-badge.svg\" alt=\"Open In Colab\"/></a>"
      ]
    },
    {
      "cell_type": "markdown",
      "metadata": {
        "id": "M7VFPYZ-CQGd"
      },
      "source": [
        "# Prévision simple du temps"
      ]
    },
    {
      "cell_type": "markdown",
      "source": [],
      "metadata": {
        "id": "tKx7_-mEC_Ih"
      }
    },
    {
      "cell_type": "code",
      "execution_count": 3,
      "metadata": {
        "id": "Guld51SzCQGe"
      },
      "outputs": [],
      "source": [
        "import pandas as pd\n",
        "import matplotlib.pyplot as plt"
      ]
    },
    {
      "cell_type": "markdown",
      "metadata": {
        "id": "CssMfwbwCQGf"
      },
      "source": [
        "## Chargement des données\n"
      ]
    },
    {
      "cell_type": "code",
      "source": [
        "!wget https://raw.githubusercontent.com/lsteffenel/CHPS0704/refs/heads/main/data/weather.csv"
      ],
      "metadata": {
        "id": "ARa6bl8zCR8p",
        "outputId": "5030d5ed-75d1-4c28-eb5e-6cb7424ab119",
        "colab": {
          "base_uri": "https://localhost:8080/"
        }
      },
      "execution_count": 4,
      "outputs": [
        {
          "output_type": "stream",
          "name": "stdout",
          "text": [
            "--2024-10-22 19:18:03--  https://raw.githubusercontent.com/lsteffenel/CHPS0704/refs/heads/main/data/weather.csv\n",
            "Resolving raw.githubusercontent.com (raw.githubusercontent.com)... 185.199.109.133, 185.199.108.133, 185.199.110.133, ...\n",
            "Connecting to raw.githubusercontent.com (raw.githubusercontent.com)|185.199.109.133|:443... connected.\n",
            "HTTP request sent, awaiting response... 200 OK\n",
            "Length: 495176 (484K) [text/plain]\n",
            "Saving to: ‘weather.csv’\n",
            "\n",
            "weather.csv         100%[===================>] 483.57K  --.-KB/s    in 0.06s   \n",
            "\n",
            "2024-10-22 19:18:03 (8.05 MB/s) - ‘weather.csv’ saved [495176/495176]\n",
            "\n"
          ]
        }
      ]
    },
    {
      "cell_type": "code",
      "execution_count": 5,
      "metadata": {
        "id": "IVPrE_lSCQGf"
      },
      "outputs": [],
      "source": [
        "fichier_meteo = \"weather.csv\""
      ]
    },
    {
      "cell_type": "markdown",
      "metadata": {
        "id": "dgcbheD2CQGf"
      },
      "source": [
        "Afficher les colonnes"
      ]
    },
    {
      "cell_type": "code",
      "execution_count": 6,
      "metadata": {
        "id": "M_eW0Ow2CQGg",
        "outputId": "d63765d2-a813-4147-8d82-0e0305c0a971",
        "colab": {
          "base_uri": "https://localhost:8080/"
        }
      },
      "outputs": [
        {
          "output_type": "stream",
          "name": "stdout",
          "text": [
            "['Temperature_c', 'Humidity', 'Wind_Speed_kmh', 'Wind_Bearing_degrees', 'Visibility_km', 'Pressure_millibars', 'Rain', 'Description']\n",
            "   Temperature_c  Humidity  Wind_Speed_kmh  Wind_Bearing_degrees  \\\n",
            "0      -0.555556      0.92         11.2700                   130   \n",
            "1      21.111111      0.73         20.9300                   330   \n",
            "2      16.600000      0.97          5.9731                   193   \n",
            "3       1.600000      0.82          3.2200                   300   \n",
            "4       2.194444      0.60         10.8836                   116   \n",
            "\n",
            "   Visibility_km  Pressure_millibars  Rain Description  \n",
            "0         8.0500             1021.60     0        Cold  \n",
            "1        16.1000             1017.00     1        Warm  \n",
            "2        14.9086             1013.99     1      Normal  \n",
            "3        16.1000             1031.59     1        Cold  \n",
            "4         9.9820             1020.88     1        Cold  \n"
          ]
        }
      ],
      "source": [
        "# charger les données\n",
        "df = pd.read_csv(fichier_meteo)\n",
        "#print(df.columns)\n",
        "#format liste\n",
        "print(df.columns.tolist())\n",
        "#quick view sur les données\n",
        "print(df.head())\n"
      ]
    },
    {
      "cell_type": "markdown",
      "metadata": {
        "id": "dPWKscgoCQGg"
      },
      "source": [
        "# Description des données"
      ]
    },
    {
      "cell_type": "code",
      "execution_count": 7,
      "metadata": {
        "id": "eQTP44LUCQGg",
        "outputId": "09a98f6d-3ec4-4637-f224-8535e944367e",
        "colab": {
          "base_uri": "https://localhost:8080/"
        }
      },
      "outputs": [
        {
          "output_type": "stream",
          "name": "stdout",
          "text": [
            "<class 'pandas.core.frame.DataFrame'>\n",
            "RangeIndex: 10000 entries, 0 to 9999\n",
            "Data columns (total 8 columns):\n",
            " #   Column                Non-Null Count  Dtype  \n",
            "---  ------                --------------  -----  \n",
            " 0   Temperature_c         10000 non-null  float64\n",
            " 1   Humidity              10000 non-null  float64\n",
            " 2   Wind_Speed_kmh        10000 non-null  float64\n",
            " 3   Wind_Bearing_degrees  10000 non-null  int64  \n",
            " 4   Visibility_km         10000 non-null  float64\n",
            " 5   Pressure_millibars    10000 non-null  float64\n",
            " 6   Rain                  10000 non-null  int64  \n",
            " 7   Description           10000 non-null  object \n",
            "dtypes: float64(5), int64(2), object(1)\n",
            "memory usage: 625.1+ KB\n",
            "None\n",
            "       Temperature_c      Humidity  Wind_Speed_kmh  Wind_Bearing_degrees  \\\n",
            "count   10000.000000  10000.000000    10000.000000          10000.000000   \n",
            "mean       11.857208      0.735272       10.813565            185.979700   \n",
            "std         9.512244      0.195498        6.972569            107.469909   \n",
            "min       -21.822222      0.000000        0.000000              0.000000   \n",
            "25%         4.655556      0.600000        5.747700            112.000000   \n",
            "50%        11.561111      0.780000        9.933700            179.000000   \n",
            "75%        18.822222      0.900000       14.103600            290.000000   \n",
            "max        38.838889      1.000000       53.242700            359.000000   \n",
            "\n",
            "       Visibility_km  Pressure_millibars          Rain  \n",
            "count   10000.000000        10000.000000  10000.000000  \n",
            "mean       10.372964         1004.896421      0.891200  \n",
            "std         4.178680          109.617120      0.311404  \n",
            "min         0.000000            0.000000      0.000000  \n",
            "25%         8.287475         1011.890000      1.000000  \n",
            "50%        10.046400         1016.500000      1.000000  \n",
            "75%        14.876400         1021.110000      1.000000  \n",
            "max        16.100000         1045.380000      1.000000  \n",
            "Temperature_c           0\n",
            "Humidity                0\n",
            "Wind_Speed_kmh          0\n",
            "Wind_Bearing_degrees    0\n",
            "Visibility_km           0\n",
            "Pressure_millibars      0\n",
            "Rain                    0\n",
            "Description             0\n",
            "dtype: int64\n"
          ]
        }
      ],
      "source": [
        "# A completer\n",
        "\n",
        "# quels types de données\n",
        "# y a-t-il des données manquantes ?\n",
        "\n",
        "# resume sur les données du data frame\n",
        "print(df.info())\n",
        "\n",
        "#descriptif du data frame\n",
        "print(df.describe())\n",
        "\n",
        "#affichage des données manquantes\n",
        "print(df.isnull().sum())\n"
      ]
    },
    {
      "cell_type": "markdown",
      "metadata": {
        "id": "RKE-9P4vCQGg"
      },
      "source": [
        "## Séparer les données en training et test"
      ]
    },
    {
      "cell_type": "code",
      "execution_count": 8,
      "metadata": {
        "id": "GTzJ2DByCQGg"
      },
      "outputs": [],
      "source": [
        "# a compléter.\n",
        "# Vous pouvez utiliser la fonction train_test_split() de sklearn.model_selection\n",
        "# utiliser un test_size de 33%\n",
        "from sklearn.model_selection import train_test_split\n",
        "# Séparation du DataFrame entier avec 33% pour le test\n",
        "train_df, test_df = train_test_split(df, test_size=0.33, random_state=42)\n"
      ]
    },
    {
      "cell_type": "markdown",
      "metadata": {
        "id": "KkLJe630CQGg"
      },
      "source": [
        "Afficher le shape (dimensions) des ensembles train et test"
      ]
    },
    {
      "cell_type": "code",
      "execution_count": 9,
      "metadata": {
        "id": "0fKTMAFWCQGh",
        "outputId": "0bc13105-c5cf-41c7-823c-fcdd9d303cc4",
        "colab": {
          "base_uri": "https://localhost:8080/"
        }
      },
      "outputs": [
        {
          "output_type": "stream",
          "name": "stdout",
          "text": [
            "Shape de l'ensemble d'entraînement (train_df): (6700, 8)\n",
            "Shape de l'ensemble de test (test_df): (3300, 8)\n",
            "\n",
            "Ensemble d'entraînement (train_df):\n",
            "       Temperature_c  Humidity  Wind_Speed_kmh  Wind_Bearing_degrees  \\\n",
            "8371      11.044444      0.67         15.1984                   149   \n",
            "5027      23.961111      0.47          8.3076                   142   \n",
            "9234      -1.250000      0.92         10.9641                   202   \n",
            "3944      12.222222      0.47         20.3021                   271   \n",
            "6862      -1.227778      1.00          7.8890                   102   \n",
            "...             ...       ...             ...                   ...   \n",
            "5734       8.888889      0.77          9.6600                    20   \n",
            "5191       7.194444      0.65         23.7153                   320   \n",
            "5390       1.088889      0.92         12.5419                    21   \n",
            "860       31.344444      0.34          9.6761                   174   \n",
            "7270      12.105556      0.93          4.2182                    57   \n",
            "\n",
            "      Visibility_km  Pressure_millibars  Rain Description  \n",
            "8371         9.9820             1026.72     1      Normal  \n",
            "5027         9.9820             1018.97     1        Warm  \n",
            "9234         4.0089             1032.08     0        Cold  \n",
            "3944        10.2557             1014.61     1      Normal  \n",
            "6862         2.9624             1019.31     0        Cold  \n",
            "...             ...                 ...   ...         ...  \n",
            "5734         9.9820             1019.50     1      Normal  \n",
            "5191        10.2557             1022.81     1      Normal  \n",
            "5390         6.3434             1026.62     1        Cold  \n",
            "860          9.9820             1017.01     1        Warm  \n",
            "7270        11.1251              995.37     1      Normal  \n",
            "\n",
            "[6700 rows x 8 columns]\n",
            "\n",
            "Ensemble de test (test_df):\n",
            "       Temperature_c  Humidity  Wind_Speed_kmh  Wind_Bearing_degrees  \\\n",
            "6252      -2.727778      0.51         25.2287                     2   \n",
            "4684      11.094444      0.86          3.7030                   283   \n",
            "1731       1.122222      0.88         12.1877                   167   \n",
            "4742      -2.850000      0.64         10.4489                    11   \n",
            "4521       7.777778      0.96          6.4400                   180   \n",
            "...             ...       ...             ...                   ...   \n",
            "1744      27.777778      0.40         12.4936                   249   \n",
            "9754       7.150000      0.61         14.0231                   318   \n",
            "6094      16.144444      0.90          5.6350                   180   \n",
            "8781      22.222222      0.33         12.7834                   354   \n",
            "9401      15.511111      0.81         14.3129                   289   \n",
            "\n",
            "      Visibility_km  Pressure_millibars  Rain Description  \n",
            "6252        11.4471             1036.09     0        Cold  \n",
            "4684         9.9820             1017.35     1      Normal  \n",
            "1731         4.9105             1020.45     1        Cold  \n",
            "4742         9.9820             1028.93     0        Cold  \n",
            "4521         3.0590              999.00     1      Normal  \n",
            "...             ...                 ...   ...         ...  \n",
            "1744         9.9820             1009.07     1        Warm  \n",
            "9754         9.9820             1014.81     1      Normal  \n",
            "6094        15.1823             1011.43     1      Normal  \n",
            "8781        10.2557             1026.05     1        Warm  \n",
            "9401         9.9820             1009.38     1      Normal  \n",
            "\n",
            "[3300 rows x 8 columns]\n"
          ]
        }
      ],
      "source": [
        "# Afficher les dimensions (shape) des ensembles d'entraînement et de test\n",
        "print(\"Shape de l'ensemble d'entraînement (train_df):\", train_df.shape)\n",
        "print(\"Shape de l'ensemble de test (test_df):\", test_df.shape)\n",
        "# Afficher les données d'entraînement et de test\n",
        "print(\"\\nEnsemble d'entraînement (train_df):\\n\", train_df)\n",
        "print(\"\\nEnsemble de test (test_df):\\n\", test_df)"
      ]
    },
    {
      "cell_type": "markdown",
      "metadata": {
        "id": "i0McDxMhCQGh"
      },
      "source": [
        "Séparer maintenant les features (humidité) et le target (température).\n",
        "\n",
        "Créer un DataFrame x_train avec la colonne « Humidity » (feature) et un y_train avec la colonne « Temperature_c » (target)\n",
        "\n",
        "Faire la même chose pour les données de test (x_test et y_test)"
      ]
    },
    {
      "cell_type": "code",
      "execution_count": 10,
      "metadata": {
        "id": "-ndbbR3hCQGh",
        "outputId": "4019dbda-f564-4c13-cbcd-e4277b2f566a",
        "colab": {
          "base_uri": "https://localhost:8080/"
        }
      },
      "outputs": [
        {
          "output_type": "stream",
          "name": "stdout",
          "text": [
            "x_train (features - Humidity):\n",
            "       Humidity\n",
            "8371      0.67\n",
            "5027      0.47\n",
            "9234      0.92\n",
            "3944      0.47\n",
            "6862      1.00\n",
            "...        ...\n",
            "5734      0.77\n",
            "5191      0.65\n",
            "5390      0.92\n",
            "860       0.34\n",
            "7270      0.93\n",
            "\n",
            "[6700 rows x 1 columns]\n",
            "\n",
            "y_train (target - Temperature_c):\n",
            " 8371    11.044444\n",
            "5027    23.961111\n",
            "9234    -1.250000\n",
            "3944    12.222222\n",
            "6862    -1.227778\n",
            "          ...    \n",
            "5734     8.888889\n",
            "5191     7.194444\n",
            "5390     1.088889\n",
            "860     31.344444\n",
            "7270    12.105556\n",
            "Name: Temperature_c, Length: 6700, dtype: float64\n",
            "\n",
            "x_test (features - Humidity):\n",
            "       Humidity\n",
            "6252      0.51\n",
            "4684      0.86\n",
            "1731      0.88\n",
            "4742      0.64\n",
            "4521      0.96\n",
            "...        ...\n",
            "1744      0.40\n",
            "9754      0.61\n",
            "6094      0.90\n",
            "8781      0.33\n",
            "9401      0.81\n",
            "\n",
            "[3300 rows x 1 columns]\n",
            "\n",
            "y_test (target - Temperature_c):\n",
            " 6252    -2.727778\n",
            "4684    11.094444\n",
            "1731     1.122222\n",
            "4742    -2.850000\n",
            "4521     7.777778\n",
            "          ...    \n",
            "1744    27.777778\n",
            "9754     7.150000\n",
            "6094    16.144444\n",
            "8781    22.222222\n",
            "9401    15.511111\n",
            "Name: Temperature_c, Length: 3300, dtype: float64\n"
          ]
        }
      ],
      "source": [
        "x= df[['Humidity']]\n",
        "y= df['Temperature_c']\n",
        "\n",
        "# Séparation des données en ensembles d'entraînement et de test\n",
        "x_train, x_test, y_train, y_test = train_test_split(x, y, test_size=0.33, random_state=42)\n",
        "print(\"x_train (features - Humidity):\\n\", x_train)\n",
        "print(\"\\ny_train (target - Temperature_c):\\n\", y_train)\n",
        "print(\"\\nx_test (features - Humidity):\\n\", x_test)\n",
        "print(\"\\ny_test (target - Temperature_c):\\n\", y_test)"
      ]
    },
    {
      "cell_type": "markdown",
      "metadata": {
        "id": "spfAS_f7CQGh"
      },
      "source": [
        "Utiliser un LinearRegression() pour estimer la température à partir de l'humidité"
      ]
    },
    {
      "cell_type": "code",
      "execution_count": 13,
      "metadata": {
        "id": "wzfr5i5dCQGh",
        "outputId": "fb09e66f-33eb-48c9-a3a4-c0cfcffa6d8e",
        "colab": {
          "base_uri": "https://localhost:8080/",
          "height": 80
        }
      },
      "outputs": [
        {
          "output_type": "execute_result",
          "data": {
            "text/plain": [
              "LinearRegression()"
            ],
            "text/html": [
              "<style>#sk-container-id-1 {\n",
              "  /* Definition of color scheme common for light and dark mode */\n",
              "  --sklearn-color-text: black;\n",
              "  --sklearn-color-line: gray;\n",
              "  /* Definition of color scheme for unfitted estimators */\n",
              "  --sklearn-color-unfitted-level-0: #fff5e6;\n",
              "  --sklearn-color-unfitted-level-1: #f6e4d2;\n",
              "  --sklearn-color-unfitted-level-2: #ffe0b3;\n",
              "  --sklearn-color-unfitted-level-3: chocolate;\n",
              "  /* Definition of color scheme for fitted estimators */\n",
              "  --sklearn-color-fitted-level-0: #f0f8ff;\n",
              "  --sklearn-color-fitted-level-1: #d4ebff;\n",
              "  --sklearn-color-fitted-level-2: #b3dbfd;\n",
              "  --sklearn-color-fitted-level-3: cornflowerblue;\n",
              "\n",
              "  /* Specific color for light theme */\n",
              "  --sklearn-color-text-on-default-background: var(--sg-text-color, var(--theme-code-foreground, var(--jp-content-font-color1, black)));\n",
              "  --sklearn-color-background: var(--sg-background-color, var(--theme-background, var(--jp-layout-color0, white)));\n",
              "  --sklearn-color-border-box: var(--sg-text-color, var(--theme-code-foreground, var(--jp-content-font-color1, black)));\n",
              "  --sklearn-color-icon: #696969;\n",
              "\n",
              "  @media (prefers-color-scheme: dark) {\n",
              "    /* Redefinition of color scheme for dark theme */\n",
              "    --sklearn-color-text-on-default-background: var(--sg-text-color, var(--theme-code-foreground, var(--jp-content-font-color1, white)));\n",
              "    --sklearn-color-background: var(--sg-background-color, var(--theme-background, var(--jp-layout-color0, #111)));\n",
              "    --sklearn-color-border-box: var(--sg-text-color, var(--theme-code-foreground, var(--jp-content-font-color1, white)));\n",
              "    --sklearn-color-icon: #878787;\n",
              "  }\n",
              "}\n",
              "\n",
              "#sk-container-id-1 {\n",
              "  color: var(--sklearn-color-text);\n",
              "}\n",
              "\n",
              "#sk-container-id-1 pre {\n",
              "  padding: 0;\n",
              "}\n",
              "\n",
              "#sk-container-id-1 input.sk-hidden--visually {\n",
              "  border: 0;\n",
              "  clip: rect(1px 1px 1px 1px);\n",
              "  clip: rect(1px, 1px, 1px, 1px);\n",
              "  height: 1px;\n",
              "  margin: -1px;\n",
              "  overflow: hidden;\n",
              "  padding: 0;\n",
              "  position: absolute;\n",
              "  width: 1px;\n",
              "}\n",
              "\n",
              "#sk-container-id-1 div.sk-dashed-wrapped {\n",
              "  border: 1px dashed var(--sklearn-color-line);\n",
              "  margin: 0 0.4em 0.5em 0.4em;\n",
              "  box-sizing: border-box;\n",
              "  padding-bottom: 0.4em;\n",
              "  background-color: var(--sklearn-color-background);\n",
              "}\n",
              "\n",
              "#sk-container-id-1 div.sk-container {\n",
              "  /* jupyter's `normalize.less` sets `[hidden] { display: none; }`\n",
              "     but bootstrap.min.css set `[hidden] { display: none !important; }`\n",
              "     so we also need the `!important` here to be able to override the\n",
              "     default hidden behavior on the sphinx rendered scikit-learn.org.\n",
              "     See: https://github.com/scikit-learn/scikit-learn/issues/21755 */\n",
              "  display: inline-block !important;\n",
              "  position: relative;\n",
              "}\n",
              "\n",
              "#sk-container-id-1 div.sk-text-repr-fallback {\n",
              "  display: none;\n",
              "}\n",
              "\n",
              "div.sk-parallel-item,\n",
              "div.sk-serial,\n",
              "div.sk-item {\n",
              "  /* draw centered vertical line to link estimators */\n",
              "  background-image: linear-gradient(var(--sklearn-color-text-on-default-background), var(--sklearn-color-text-on-default-background));\n",
              "  background-size: 2px 100%;\n",
              "  background-repeat: no-repeat;\n",
              "  background-position: center center;\n",
              "}\n",
              "\n",
              "/* Parallel-specific style estimator block */\n",
              "\n",
              "#sk-container-id-1 div.sk-parallel-item::after {\n",
              "  content: \"\";\n",
              "  width: 100%;\n",
              "  border-bottom: 2px solid var(--sklearn-color-text-on-default-background);\n",
              "  flex-grow: 1;\n",
              "}\n",
              "\n",
              "#sk-container-id-1 div.sk-parallel {\n",
              "  display: flex;\n",
              "  align-items: stretch;\n",
              "  justify-content: center;\n",
              "  background-color: var(--sklearn-color-background);\n",
              "  position: relative;\n",
              "}\n",
              "\n",
              "#sk-container-id-1 div.sk-parallel-item {\n",
              "  display: flex;\n",
              "  flex-direction: column;\n",
              "}\n",
              "\n",
              "#sk-container-id-1 div.sk-parallel-item:first-child::after {\n",
              "  align-self: flex-end;\n",
              "  width: 50%;\n",
              "}\n",
              "\n",
              "#sk-container-id-1 div.sk-parallel-item:last-child::after {\n",
              "  align-self: flex-start;\n",
              "  width: 50%;\n",
              "}\n",
              "\n",
              "#sk-container-id-1 div.sk-parallel-item:only-child::after {\n",
              "  width: 0;\n",
              "}\n",
              "\n",
              "/* Serial-specific style estimator block */\n",
              "\n",
              "#sk-container-id-1 div.sk-serial {\n",
              "  display: flex;\n",
              "  flex-direction: column;\n",
              "  align-items: center;\n",
              "  background-color: var(--sklearn-color-background);\n",
              "  padding-right: 1em;\n",
              "  padding-left: 1em;\n",
              "}\n",
              "\n",
              "\n",
              "/* Toggleable style: style used for estimator/Pipeline/ColumnTransformer box that is\n",
              "clickable and can be expanded/collapsed.\n",
              "- Pipeline and ColumnTransformer use this feature and define the default style\n",
              "- Estimators will overwrite some part of the style using the `sk-estimator` class\n",
              "*/\n",
              "\n",
              "/* Pipeline and ColumnTransformer style (default) */\n",
              "\n",
              "#sk-container-id-1 div.sk-toggleable {\n",
              "  /* Default theme specific background. It is overwritten whether we have a\n",
              "  specific estimator or a Pipeline/ColumnTransformer */\n",
              "  background-color: var(--sklearn-color-background);\n",
              "}\n",
              "\n",
              "/* Toggleable label */\n",
              "#sk-container-id-1 label.sk-toggleable__label {\n",
              "  cursor: pointer;\n",
              "  display: block;\n",
              "  width: 100%;\n",
              "  margin-bottom: 0;\n",
              "  padding: 0.5em;\n",
              "  box-sizing: border-box;\n",
              "  text-align: center;\n",
              "}\n",
              "\n",
              "#sk-container-id-1 label.sk-toggleable__label-arrow:before {\n",
              "  /* Arrow on the left of the label */\n",
              "  content: \"▸\";\n",
              "  float: left;\n",
              "  margin-right: 0.25em;\n",
              "  color: var(--sklearn-color-icon);\n",
              "}\n",
              "\n",
              "#sk-container-id-1 label.sk-toggleable__label-arrow:hover:before {\n",
              "  color: var(--sklearn-color-text);\n",
              "}\n",
              "\n",
              "/* Toggleable content - dropdown */\n",
              "\n",
              "#sk-container-id-1 div.sk-toggleable__content {\n",
              "  max-height: 0;\n",
              "  max-width: 0;\n",
              "  overflow: hidden;\n",
              "  text-align: left;\n",
              "  /* unfitted */\n",
              "  background-color: var(--sklearn-color-unfitted-level-0);\n",
              "}\n",
              "\n",
              "#sk-container-id-1 div.sk-toggleable__content.fitted {\n",
              "  /* fitted */\n",
              "  background-color: var(--sklearn-color-fitted-level-0);\n",
              "}\n",
              "\n",
              "#sk-container-id-1 div.sk-toggleable__content pre {\n",
              "  margin: 0.2em;\n",
              "  border-radius: 0.25em;\n",
              "  color: var(--sklearn-color-text);\n",
              "  /* unfitted */\n",
              "  background-color: var(--sklearn-color-unfitted-level-0);\n",
              "}\n",
              "\n",
              "#sk-container-id-1 div.sk-toggleable__content.fitted pre {\n",
              "  /* unfitted */\n",
              "  background-color: var(--sklearn-color-fitted-level-0);\n",
              "}\n",
              "\n",
              "#sk-container-id-1 input.sk-toggleable__control:checked~div.sk-toggleable__content {\n",
              "  /* Expand drop-down */\n",
              "  max-height: 200px;\n",
              "  max-width: 100%;\n",
              "  overflow: auto;\n",
              "}\n",
              "\n",
              "#sk-container-id-1 input.sk-toggleable__control:checked~label.sk-toggleable__label-arrow:before {\n",
              "  content: \"▾\";\n",
              "}\n",
              "\n",
              "/* Pipeline/ColumnTransformer-specific style */\n",
              "\n",
              "#sk-container-id-1 div.sk-label input.sk-toggleable__control:checked~label.sk-toggleable__label {\n",
              "  color: var(--sklearn-color-text);\n",
              "  background-color: var(--sklearn-color-unfitted-level-2);\n",
              "}\n",
              "\n",
              "#sk-container-id-1 div.sk-label.fitted input.sk-toggleable__control:checked~label.sk-toggleable__label {\n",
              "  background-color: var(--sklearn-color-fitted-level-2);\n",
              "}\n",
              "\n",
              "/* Estimator-specific style */\n",
              "\n",
              "/* Colorize estimator box */\n",
              "#sk-container-id-1 div.sk-estimator input.sk-toggleable__control:checked~label.sk-toggleable__label {\n",
              "  /* unfitted */\n",
              "  background-color: var(--sklearn-color-unfitted-level-2);\n",
              "}\n",
              "\n",
              "#sk-container-id-1 div.sk-estimator.fitted input.sk-toggleable__control:checked~label.sk-toggleable__label {\n",
              "  /* fitted */\n",
              "  background-color: var(--sklearn-color-fitted-level-2);\n",
              "}\n",
              "\n",
              "#sk-container-id-1 div.sk-label label.sk-toggleable__label,\n",
              "#sk-container-id-1 div.sk-label label {\n",
              "  /* The background is the default theme color */\n",
              "  color: var(--sklearn-color-text-on-default-background);\n",
              "}\n",
              "\n",
              "/* On hover, darken the color of the background */\n",
              "#sk-container-id-1 div.sk-label:hover label.sk-toggleable__label {\n",
              "  color: var(--sklearn-color-text);\n",
              "  background-color: var(--sklearn-color-unfitted-level-2);\n",
              "}\n",
              "\n",
              "/* Label box, darken color on hover, fitted */\n",
              "#sk-container-id-1 div.sk-label.fitted:hover label.sk-toggleable__label.fitted {\n",
              "  color: var(--sklearn-color-text);\n",
              "  background-color: var(--sklearn-color-fitted-level-2);\n",
              "}\n",
              "\n",
              "/* Estimator label */\n",
              "\n",
              "#sk-container-id-1 div.sk-label label {\n",
              "  font-family: monospace;\n",
              "  font-weight: bold;\n",
              "  display: inline-block;\n",
              "  line-height: 1.2em;\n",
              "}\n",
              "\n",
              "#sk-container-id-1 div.sk-label-container {\n",
              "  text-align: center;\n",
              "}\n",
              "\n",
              "/* Estimator-specific */\n",
              "#sk-container-id-1 div.sk-estimator {\n",
              "  font-family: monospace;\n",
              "  border: 1px dotted var(--sklearn-color-border-box);\n",
              "  border-radius: 0.25em;\n",
              "  box-sizing: border-box;\n",
              "  margin-bottom: 0.5em;\n",
              "  /* unfitted */\n",
              "  background-color: var(--sklearn-color-unfitted-level-0);\n",
              "}\n",
              "\n",
              "#sk-container-id-1 div.sk-estimator.fitted {\n",
              "  /* fitted */\n",
              "  background-color: var(--sklearn-color-fitted-level-0);\n",
              "}\n",
              "\n",
              "/* on hover */\n",
              "#sk-container-id-1 div.sk-estimator:hover {\n",
              "  /* unfitted */\n",
              "  background-color: var(--sklearn-color-unfitted-level-2);\n",
              "}\n",
              "\n",
              "#sk-container-id-1 div.sk-estimator.fitted:hover {\n",
              "  /* fitted */\n",
              "  background-color: var(--sklearn-color-fitted-level-2);\n",
              "}\n",
              "\n",
              "/* Specification for estimator info (e.g. \"i\" and \"?\") */\n",
              "\n",
              "/* Common style for \"i\" and \"?\" */\n",
              "\n",
              ".sk-estimator-doc-link,\n",
              "a:link.sk-estimator-doc-link,\n",
              "a:visited.sk-estimator-doc-link {\n",
              "  float: right;\n",
              "  font-size: smaller;\n",
              "  line-height: 1em;\n",
              "  font-family: monospace;\n",
              "  background-color: var(--sklearn-color-background);\n",
              "  border-radius: 1em;\n",
              "  height: 1em;\n",
              "  width: 1em;\n",
              "  text-decoration: none !important;\n",
              "  margin-left: 1ex;\n",
              "  /* unfitted */\n",
              "  border: var(--sklearn-color-unfitted-level-1) 1pt solid;\n",
              "  color: var(--sklearn-color-unfitted-level-1);\n",
              "}\n",
              "\n",
              ".sk-estimator-doc-link.fitted,\n",
              "a:link.sk-estimator-doc-link.fitted,\n",
              "a:visited.sk-estimator-doc-link.fitted {\n",
              "  /* fitted */\n",
              "  border: var(--sklearn-color-fitted-level-1) 1pt solid;\n",
              "  color: var(--sklearn-color-fitted-level-1);\n",
              "}\n",
              "\n",
              "/* On hover */\n",
              "div.sk-estimator:hover .sk-estimator-doc-link:hover,\n",
              ".sk-estimator-doc-link:hover,\n",
              "div.sk-label-container:hover .sk-estimator-doc-link:hover,\n",
              ".sk-estimator-doc-link:hover {\n",
              "  /* unfitted */\n",
              "  background-color: var(--sklearn-color-unfitted-level-3);\n",
              "  color: var(--sklearn-color-background);\n",
              "  text-decoration: none;\n",
              "}\n",
              "\n",
              "div.sk-estimator.fitted:hover .sk-estimator-doc-link.fitted:hover,\n",
              ".sk-estimator-doc-link.fitted:hover,\n",
              "div.sk-label-container:hover .sk-estimator-doc-link.fitted:hover,\n",
              ".sk-estimator-doc-link.fitted:hover {\n",
              "  /* fitted */\n",
              "  background-color: var(--sklearn-color-fitted-level-3);\n",
              "  color: var(--sklearn-color-background);\n",
              "  text-decoration: none;\n",
              "}\n",
              "\n",
              "/* Span, style for the box shown on hovering the info icon */\n",
              ".sk-estimator-doc-link span {\n",
              "  display: none;\n",
              "  z-index: 9999;\n",
              "  position: relative;\n",
              "  font-weight: normal;\n",
              "  right: .2ex;\n",
              "  padding: .5ex;\n",
              "  margin: .5ex;\n",
              "  width: min-content;\n",
              "  min-width: 20ex;\n",
              "  max-width: 50ex;\n",
              "  color: var(--sklearn-color-text);\n",
              "  box-shadow: 2pt 2pt 4pt #999;\n",
              "  /* unfitted */\n",
              "  background: var(--sklearn-color-unfitted-level-0);\n",
              "  border: .5pt solid var(--sklearn-color-unfitted-level-3);\n",
              "}\n",
              "\n",
              ".sk-estimator-doc-link.fitted span {\n",
              "  /* fitted */\n",
              "  background: var(--sklearn-color-fitted-level-0);\n",
              "  border: var(--sklearn-color-fitted-level-3);\n",
              "}\n",
              "\n",
              ".sk-estimator-doc-link:hover span {\n",
              "  display: block;\n",
              "}\n",
              "\n",
              "/* \"?\"-specific style due to the `<a>` HTML tag */\n",
              "\n",
              "#sk-container-id-1 a.estimator_doc_link {\n",
              "  float: right;\n",
              "  font-size: 1rem;\n",
              "  line-height: 1em;\n",
              "  font-family: monospace;\n",
              "  background-color: var(--sklearn-color-background);\n",
              "  border-radius: 1rem;\n",
              "  height: 1rem;\n",
              "  width: 1rem;\n",
              "  text-decoration: none;\n",
              "  /* unfitted */\n",
              "  color: var(--sklearn-color-unfitted-level-1);\n",
              "  border: var(--sklearn-color-unfitted-level-1) 1pt solid;\n",
              "}\n",
              "\n",
              "#sk-container-id-1 a.estimator_doc_link.fitted {\n",
              "  /* fitted */\n",
              "  border: var(--sklearn-color-fitted-level-1) 1pt solid;\n",
              "  color: var(--sklearn-color-fitted-level-1);\n",
              "}\n",
              "\n",
              "/* On hover */\n",
              "#sk-container-id-1 a.estimator_doc_link:hover {\n",
              "  /* unfitted */\n",
              "  background-color: var(--sklearn-color-unfitted-level-3);\n",
              "  color: var(--sklearn-color-background);\n",
              "  text-decoration: none;\n",
              "}\n",
              "\n",
              "#sk-container-id-1 a.estimator_doc_link.fitted:hover {\n",
              "  /* fitted */\n",
              "  background-color: var(--sklearn-color-fitted-level-3);\n",
              "}\n",
              "</style><div id=\"sk-container-id-1\" class=\"sk-top-container\"><div class=\"sk-text-repr-fallback\"><pre>LinearRegression()</pre><b>In a Jupyter environment, please rerun this cell to show the HTML representation or trust the notebook. <br />On GitHub, the HTML representation is unable to render, please try loading this page with nbviewer.org.</b></div><div class=\"sk-container\" hidden><div class=\"sk-item\"><div class=\"sk-estimator fitted sk-toggleable\"><input class=\"sk-toggleable__control sk-hidden--visually\" id=\"sk-estimator-id-1\" type=\"checkbox\" checked><label for=\"sk-estimator-id-1\" class=\"sk-toggleable__label fitted sk-toggleable__label-arrow fitted\">&nbsp;&nbsp;LinearRegression<a class=\"sk-estimator-doc-link fitted\" rel=\"noreferrer\" target=\"_blank\" href=\"https://scikit-learn.org/1.5/modules/generated/sklearn.linear_model.LinearRegression.html\">?<span>Documentation for LinearRegression</span></a><span class=\"sk-estimator-doc-link fitted\">i<span>Fitted</span></span></label><div class=\"sk-toggleable__content fitted\"><pre>LinearRegression()</pre></div> </div></div></div></div>"
            ]
          },
          "metadata": {},
          "execution_count": 13
        }
      ],
      "source": [
        "from sklearn.linear_model import LinearRegression\n",
        "\n",
        "# Création d'une instance du modèle de régression linéaire\n",
        "model = LinearRegression()\n",
        "\n",
        "# Entraînement du modèle sur les données d'entraînement\n",
        "model.fit(x_train, y_train)"
      ]
    },
    {
      "cell_type": "code",
      "execution_count": 14,
      "metadata": {
        "id": "ezAEACS-CQGh",
        "outputId": "537e82f5-39d3-4301-f99b-fbbe6720256e",
        "colab": {
          "base_uri": "https://localhost:8080/"
        }
      },
      "outputs": [
        {
          "output_type": "stream",
          "name": "stdout",
          "text": [
            "intercept : 34.57484017439725 Coeff humidité : [-30.88864271]\n",
            "Temperature =  34.57484017439725 + -30.888642713374534 x Humidity\n"
          ]
        }
      ],
      "source": [
        "#afficher les coefficients obtenus\n",
        "\n",
        "intercept = model.intercept_\n",
        "coeffs = model.coef_\n",
        "\n",
        "print ('intercept :', intercept, 'Coeff humidité :', coeffs)\n",
        "\n",
        "print('Temperature = ', intercept, '+' , coeffs[0], 'x Humidity')\n"
      ]
    },
    {
      "cell_type": "markdown",
      "metadata": {
        "id": "43kf1L_sCQGh"
      },
      "source": [
        "Une fois entrainé, on peut tester le modèle avec les données de test (x_test)"
      ]
    },
    {
      "cell_type": "code",
      "execution_count": 15,
      "metadata": {
        "id": "YXwpfYjtCQGh"
      },
      "outputs": [],
      "source": [
        "y_pred = model.predict ( x_test )"
      ]
    },
    {
      "cell_type": "code",
      "execution_count": 17,
      "metadata": {
        "id": "zg5PtJELCQGi",
        "outputId": "0ef8fd89-f142-4159-d555-3d496319f0aa",
        "colab": {
          "base_uri": "https://localhost:8080/",
          "height": 206
        }
      },
      "outputs": [
        {
          "output_type": "execute_result",
          "data": {
            "text/plain": [
              "       Expected  Predicted  Humidity\n",
              "6252  -2.727778  18.821632      0.51\n",
              "4684  11.094444   8.010607      0.86\n",
              "1731   1.122222   7.392835      0.88\n",
              "4742  -2.850000  14.806109      0.64\n",
              "4521   7.777778   4.921743      0.96"
            ],
            "text/html": [
              "\n",
              "  <div id=\"df-2af1cd7a-98c0-4159-9e96-92b500835e82\" class=\"colab-df-container\">\n",
              "    <div>\n",
              "<style scoped>\n",
              "    .dataframe tbody tr th:only-of-type {\n",
              "        vertical-align: middle;\n",
              "    }\n",
              "\n",
              "    .dataframe tbody tr th {\n",
              "        vertical-align: top;\n",
              "    }\n",
              "\n",
              "    .dataframe thead th {\n",
              "        text-align: right;\n",
              "    }\n",
              "</style>\n",
              "<table border=\"1\" class=\"dataframe\">\n",
              "  <thead>\n",
              "    <tr style=\"text-align: right;\">\n",
              "      <th></th>\n",
              "      <th>Expected</th>\n",
              "      <th>Predicted</th>\n",
              "      <th>Humidity</th>\n",
              "    </tr>\n",
              "  </thead>\n",
              "  <tbody>\n",
              "    <tr>\n",
              "      <th>6252</th>\n",
              "      <td>-2.727778</td>\n",
              "      <td>18.821632</td>\n",
              "      <td>0.51</td>\n",
              "    </tr>\n",
              "    <tr>\n",
              "      <th>4684</th>\n",
              "      <td>11.094444</td>\n",
              "      <td>8.010607</td>\n",
              "      <td>0.86</td>\n",
              "    </tr>\n",
              "    <tr>\n",
              "      <th>1731</th>\n",
              "      <td>1.122222</td>\n",
              "      <td>7.392835</td>\n",
              "      <td>0.88</td>\n",
              "    </tr>\n",
              "    <tr>\n",
              "      <th>4742</th>\n",
              "      <td>-2.850000</td>\n",
              "      <td>14.806109</td>\n",
              "      <td>0.64</td>\n",
              "    </tr>\n",
              "    <tr>\n",
              "      <th>4521</th>\n",
              "      <td>7.777778</td>\n",
              "      <td>4.921743</td>\n",
              "      <td>0.96</td>\n",
              "    </tr>\n",
              "  </tbody>\n",
              "</table>\n",
              "</div>\n",
              "    <div class=\"colab-df-buttons\">\n",
              "\n",
              "  <div class=\"colab-df-container\">\n",
              "    <button class=\"colab-df-convert\" onclick=\"convertToInteractive('df-2af1cd7a-98c0-4159-9e96-92b500835e82')\"\n",
              "            title=\"Convert this dataframe to an interactive table.\"\n",
              "            style=\"display:none;\">\n",
              "\n",
              "  <svg xmlns=\"http://www.w3.org/2000/svg\" height=\"24px\" viewBox=\"0 -960 960 960\">\n",
              "    <path d=\"M120-120v-720h720v720H120Zm60-500h600v-160H180v160Zm220 220h160v-160H400v160Zm0 220h160v-160H400v160ZM180-400h160v-160H180v160Zm440 0h160v-160H620v160ZM180-180h160v-160H180v160Zm440 0h160v-160H620v160Z\"/>\n",
              "  </svg>\n",
              "    </button>\n",
              "\n",
              "  <style>\n",
              "    .colab-df-container {\n",
              "      display:flex;\n",
              "      gap: 12px;\n",
              "    }\n",
              "\n",
              "    .colab-df-convert {\n",
              "      background-color: #E8F0FE;\n",
              "      border: none;\n",
              "      border-radius: 50%;\n",
              "      cursor: pointer;\n",
              "      display: none;\n",
              "      fill: #1967D2;\n",
              "      height: 32px;\n",
              "      padding: 0 0 0 0;\n",
              "      width: 32px;\n",
              "    }\n",
              "\n",
              "    .colab-df-convert:hover {\n",
              "      background-color: #E2EBFA;\n",
              "      box-shadow: 0px 1px 2px rgba(60, 64, 67, 0.3), 0px 1px 3px 1px rgba(60, 64, 67, 0.15);\n",
              "      fill: #174EA6;\n",
              "    }\n",
              "\n",
              "    .colab-df-buttons div {\n",
              "      margin-bottom: 4px;\n",
              "    }\n",
              "\n",
              "    [theme=dark] .colab-df-convert {\n",
              "      background-color: #3B4455;\n",
              "      fill: #D2E3FC;\n",
              "    }\n",
              "\n",
              "    [theme=dark] .colab-df-convert:hover {\n",
              "      background-color: #434B5C;\n",
              "      box-shadow: 0px 1px 3px 1px rgba(0, 0, 0, 0.15);\n",
              "      filter: drop-shadow(0px 1px 2px rgba(0, 0, 0, 0.3));\n",
              "      fill: #FFFFFF;\n",
              "    }\n",
              "  </style>\n",
              "\n",
              "    <script>\n",
              "      const buttonEl =\n",
              "        document.querySelector('#df-2af1cd7a-98c0-4159-9e96-92b500835e82 button.colab-df-convert');\n",
              "      buttonEl.style.display =\n",
              "        google.colab.kernel.accessAllowed ? 'block' : 'none';\n",
              "\n",
              "      async function convertToInteractive(key) {\n",
              "        const element = document.querySelector('#df-2af1cd7a-98c0-4159-9e96-92b500835e82');\n",
              "        const dataTable =\n",
              "          await google.colab.kernel.invokeFunction('convertToInteractive',\n",
              "                                                    [key], {});\n",
              "        if (!dataTable) return;\n",
              "\n",
              "        const docLinkHtml = 'Like what you see? Visit the ' +\n",
              "          '<a target=\"_blank\" href=https://colab.research.google.com/notebooks/data_table.ipynb>data table notebook</a>'\n",
              "          + ' to learn more about interactive tables.';\n",
              "        element.innerHTML = '';\n",
              "        dataTable['output_type'] = 'display_data';\n",
              "        await google.colab.output.renderOutput(dataTable, element);\n",
              "        const docLink = document.createElement('div');\n",
              "        docLink.innerHTML = docLinkHtml;\n",
              "        element.appendChild(docLink);\n",
              "      }\n",
              "    </script>\n",
              "  </div>\n",
              "\n",
              "\n",
              "<div id=\"df-47ed67c2-fd07-4790-8095-6dbcd4cd2a0e\">\n",
              "  <button class=\"colab-df-quickchart\" onclick=\"quickchart('df-47ed67c2-fd07-4790-8095-6dbcd4cd2a0e')\"\n",
              "            title=\"Suggest charts\"\n",
              "            style=\"display:none;\">\n",
              "\n",
              "<svg xmlns=\"http://www.w3.org/2000/svg\" height=\"24px\"viewBox=\"0 0 24 24\"\n",
              "     width=\"24px\">\n",
              "    <g>\n",
              "        <path d=\"M19 3H5c-1.1 0-2 .9-2 2v14c0 1.1.9 2 2 2h14c1.1 0 2-.9 2-2V5c0-1.1-.9-2-2-2zM9 17H7v-7h2v7zm4 0h-2V7h2v10zm4 0h-2v-4h2v4z\"/>\n",
              "    </g>\n",
              "</svg>\n",
              "  </button>\n",
              "\n",
              "<style>\n",
              "  .colab-df-quickchart {\n",
              "      --bg-color: #E8F0FE;\n",
              "      --fill-color: #1967D2;\n",
              "      --hover-bg-color: #E2EBFA;\n",
              "      --hover-fill-color: #174EA6;\n",
              "      --disabled-fill-color: #AAA;\n",
              "      --disabled-bg-color: #DDD;\n",
              "  }\n",
              "\n",
              "  [theme=dark] .colab-df-quickchart {\n",
              "      --bg-color: #3B4455;\n",
              "      --fill-color: #D2E3FC;\n",
              "      --hover-bg-color: #434B5C;\n",
              "      --hover-fill-color: #FFFFFF;\n",
              "      --disabled-bg-color: #3B4455;\n",
              "      --disabled-fill-color: #666;\n",
              "  }\n",
              "\n",
              "  .colab-df-quickchart {\n",
              "    background-color: var(--bg-color);\n",
              "    border: none;\n",
              "    border-radius: 50%;\n",
              "    cursor: pointer;\n",
              "    display: none;\n",
              "    fill: var(--fill-color);\n",
              "    height: 32px;\n",
              "    padding: 0;\n",
              "    width: 32px;\n",
              "  }\n",
              "\n",
              "  .colab-df-quickchart:hover {\n",
              "    background-color: var(--hover-bg-color);\n",
              "    box-shadow: 0 1px 2px rgba(60, 64, 67, 0.3), 0 1px 3px 1px rgba(60, 64, 67, 0.15);\n",
              "    fill: var(--button-hover-fill-color);\n",
              "  }\n",
              "\n",
              "  .colab-df-quickchart-complete:disabled,\n",
              "  .colab-df-quickchart-complete:disabled:hover {\n",
              "    background-color: var(--disabled-bg-color);\n",
              "    fill: var(--disabled-fill-color);\n",
              "    box-shadow: none;\n",
              "  }\n",
              "\n",
              "  .colab-df-spinner {\n",
              "    border: 2px solid var(--fill-color);\n",
              "    border-color: transparent;\n",
              "    border-bottom-color: var(--fill-color);\n",
              "    animation:\n",
              "      spin 1s steps(1) infinite;\n",
              "  }\n",
              "\n",
              "  @keyframes spin {\n",
              "    0% {\n",
              "      border-color: transparent;\n",
              "      border-bottom-color: var(--fill-color);\n",
              "      border-left-color: var(--fill-color);\n",
              "    }\n",
              "    20% {\n",
              "      border-color: transparent;\n",
              "      border-left-color: var(--fill-color);\n",
              "      border-top-color: var(--fill-color);\n",
              "    }\n",
              "    30% {\n",
              "      border-color: transparent;\n",
              "      border-left-color: var(--fill-color);\n",
              "      border-top-color: var(--fill-color);\n",
              "      border-right-color: var(--fill-color);\n",
              "    }\n",
              "    40% {\n",
              "      border-color: transparent;\n",
              "      border-right-color: var(--fill-color);\n",
              "      border-top-color: var(--fill-color);\n",
              "    }\n",
              "    60% {\n",
              "      border-color: transparent;\n",
              "      border-right-color: var(--fill-color);\n",
              "    }\n",
              "    80% {\n",
              "      border-color: transparent;\n",
              "      border-right-color: var(--fill-color);\n",
              "      border-bottom-color: var(--fill-color);\n",
              "    }\n",
              "    90% {\n",
              "      border-color: transparent;\n",
              "      border-bottom-color: var(--fill-color);\n",
              "    }\n",
              "  }\n",
              "</style>\n",
              "\n",
              "  <script>\n",
              "    async function quickchart(key) {\n",
              "      const quickchartButtonEl =\n",
              "        document.querySelector('#' + key + ' button');\n",
              "      quickchartButtonEl.disabled = true;  // To prevent multiple clicks.\n",
              "      quickchartButtonEl.classList.add('colab-df-spinner');\n",
              "      try {\n",
              "        const charts = await google.colab.kernel.invokeFunction(\n",
              "            'suggestCharts', [key], {});\n",
              "      } catch (error) {\n",
              "        console.error('Error during call to suggestCharts:', error);\n",
              "      }\n",
              "      quickchartButtonEl.classList.remove('colab-df-spinner');\n",
              "      quickchartButtonEl.classList.add('colab-df-quickchart-complete');\n",
              "    }\n",
              "    (() => {\n",
              "      let quickchartButtonEl =\n",
              "        document.querySelector('#df-47ed67c2-fd07-4790-8095-6dbcd4cd2a0e button');\n",
              "      quickchartButtonEl.style.display =\n",
              "        google.colab.kernel.accessAllowed ? 'block' : 'none';\n",
              "    })();\n",
              "  </script>\n",
              "</div>\n",
              "\n",
              "    </div>\n",
              "  </div>\n"
            ],
            "application/vnd.google.colaboratory.intrinsic+json": {
              "type": "dataframe",
              "variable_name": "visu",
              "summary": "{\n  \"name\": \"visu\",\n  \"rows\": 3300,\n  \"fields\": [\n    {\n      \"column\": \"Expected\",\n      \"properties\": {\n        \"dtype\": \"number\",\n        \"std\": 9.334975269617907,\n        \"min\": -17.29444444,\n        \"max\": 38.83888889,\n        \"num_unique_values\": 2023,\n        \"samples\": [\n          11.40555556,\n          7.755555556,\n          -7.6\n        ],\n        \"semantic_type\": \"\",\n        \"description\": \"\"\n      }\n    },\n    {\n      \"column\": \"Predicted\",\n      \"properties\": {\n        \"dtype\": \"number\",\n        \"std\": 5.970344841995796,\n        \"min\": 3.6861974610227186,\n        \"max\": 29.941543767391074,\n        \"num_unique_values\": 84,\n        \"samples\": [\n          22.528269516181183,\n          18.82163239057624,\n          11.7172445665001\n        ],\n        \"semantic_type\": \"\",\n        \"description\": \"\"\n      }\n    },\n    {\n      \"column\": \"Humidity\",\n      \"properties\": {\n        \"dtype\": \"number\",\n        \"std\": 0.19328608567868968,\n        \"min\": 0.15,\n        \"max\": 1.0,\n        \"num_unique_values\": 84,\n        \"samples\": [\n          0.39,\n          0.51,\n          0.74\n        ],\n        \"semantic_type\": \"\",\n        \"description\": \"\"\n      }\n    }\n  ]\n}"
            }
          },
          "metadata": {},
          "execution_count": 17
        }
      ],
      "source": [
        "## Créer un dataframe pour la visualisation des résultats\n",
        "import pandas as pnd\n",
        "\n",
        "visu = pnd.DataFrame(y_test)\n",
        "visu['Predicted'] = y_pred\n",
        "visu['Humidity'] = x_test['Humidity'].values\n",
        "\n",
        "visu.rename(columns={'Temperature_c':'Expected'}, inplace=True)\n",
        "\n",
        "visu.head()\n"
      ]
    },
    {
      "cell_type": "markdown",
      "metadata": {
        "id": "8tfpdoImCQGi"
      },
      "source": [
        "## Analyse du modèle\n",
        "\n",
        "Grâce au code suivant, que pensez-vous des résultats par rapport aux métriques obtenues ?"
      ]
    },
    {
      "cell_type": "code",
      "execution_count": 18,
      "metadata": {
        "id": "yXe0Z8JwCQGi",
        "outputId": "dde4cfc9-2a5e-4501-9783-1d9247b129cf",
        "colab": {
          "base_uri": "https://localhost:8080/",
          "height": 601
        }
      },
      "outputs": [
        {
          "output_type": "execute_result",
          "data": {
            "text/plain": [
              "<Axes: title={'center': 'Predicted'}, xlabel='Humidity'>"
            ]
          },
          "metadata": {},
          "execution_count": 18
        },
        {
          "output_type": "display_data",
          "data": {
            "text/plain": [
              "<Figure size 1800x600 with 2 Axes>"
            ],
            "image/png": "[encoded data removed]"
          },
          "metadata": {}
        }
      ],
      "source": [
        "import matplotlib.pyplot as plt\n",
        "%matplotlib inline\n",
        "\n",
        "fig, axs = plt.subplots(1, 2, figsize=(18, 6))\n",
        "\n",
        "visu.plot.scatter ( x='Expected', y='Predicted', title='Correlation', ax=axs[0] )\n",
        "\n",
        "visu.set_index('Humidity')['Predicted'].plot ( title='Predicted', kind='line', ax=axs[1] )\n"
      ]
    },
    {
      "cell_type": "markdown",
      "source": [
        "-> corrélation des points :les points ne sont pas très proches de la diagonale (y=x) donc les prédictions ne sont pas très précises.\n",
        "<br>-> L'évolution des températures prédites avec l'humidité est décroissante cela veut dire que la température diminue avec l'augmentation de l'humidité.\n"
      ],
      "metadata": {
        "id": "8PDD1nzsvaGj"
      }
    },
    {
      "cell_type": "code",
      "execution_count": 20,
      "metadata": {
        "id": "re2YtioKCQGi",
        "outputId": "92336e6e-80b4-4afc-8eec-422d47b6ecdf",
        "colab": {
          "base_uri": "https://localhost:8080/"
        }
      },
      "outputs": [
        {
          "output_type": "stream",
          "name": "stdout",
          "text": [
            "MAE=6.006\n",
            "RMSE=7.319 \t MSE=53.564 \n",
            "R2=0.385\n",
            "Explained Variance=0.385\n"
          ]
        }
      ],
      "source": [
        "from sklearn.metrics import mean_absolute_error, mean_squared_error, r2_score, explained_variance_score\n",
        "from math import sqrt\n",
        "#moyenne des différences\n",
        "mae = mean_absolute_error ( y_test , y_pred )\n",
        "\n",
        "mse = mean_squared_error ( y_test , y_pred )\n",
        "rmse = sqrt(mse)\n",
        "\n",
        "\n",
        "r2 = r2_score ( y_test , y_pred )\n",
        "\n",
        "\n",
        "expvar = explained_variance_score ( y_test , y_pred )\n",
        "\n",
        "print ('MAE={:.3f}'.format(mae) )\n",
        "print ('RMSE={0:.3f} \\t MSE={1:.3f} '.format(rmse, mse) )\n",
        "print ('R2={:.3f}'.format(r2) )\n",
        "print ('Explained Variance={:.3f}'.format(expvar))\n"
      ]
    },
    {
      "cell_type": "markdown",
      "metadata": {
        "id": "vr6fZDGsCQGi"
      },
      "source": [
        "## Pourquoi la métrique \"explained variance\" est si bas ???\n",
        "Est-ce qu'on peut faire mieux ?"
      ]
    },
    {
      "cell_type": "markdown",
      "source": [
        "* Explained variance est basse cela signifie qu'il ya un sous apprentissage (underfitting)\n",
        "* Nous devons dans ce cas choisir un modèle qui se généralise  aux futures données à prédire"
      ],
      "metadata": {
        "id": "UEwj8uD-5G7w"
      }
    },
    {
      "cell_type": "markdown",
      "metadata": {
        "id": "kvsOB6UfCQGi"
      },
      "source": [
        "# Modèle de Régression Linéaire Multiple\n",
        "\n",
        "Utiliser plusieurs variables (features) peut aider à améliorer la qualité du modèle !\n",
        "\n",
        "Problème : la colonne \"Description\" n'est pas numérique.\n",
        "\n",
        "Utiliser un \"One-hot-encoder\" pour transformer Description."
      ]
    },
    {
      "cell_type": "code",
      "execution_count": 23,
      "metadata": {
        "id": "BtSVHM6-CQGi"
      },
      "outputs": [],
      "source": [
        "from sklearn.preprocessing import OneHotEncoder\n",
        "features = df[['Humidity', 'Description','Rain','Wind_Speed_kmh']]  # Inclut la colonne catégorielle \"Description\"\n",
        "target = df['Temperature_c']\n",
        "#encodeur de description\n",
        "onehot_encoder = OneHotEncoder(sparse_output=False)  # sparse_output=False pour obtenir un DataFrame dense\n",
        "encoded_features = onehot_encoder.fit_transform(features[['Description']])\n",
        "encoded_df = pd.DataFrame(encoded_features, columns=onehot_encoder.get_feature_names_out(['Description']))\n",
        "# Concaténer les colonnes encodées avec les autres features\n",
        "features_encoded = pd.concat([features.drop(columns=['Description']), encoded_df], axis=1)"
      ]
    },
    {
      "cell_type": "markdown",
      "metadata": {
        "id": "utIxwUozCQGi"
      },
      "source": [
        "\n",
        "Refaire la séparation training et test utiliser maintenant toutes les variables.\n"
      ]
    },
    {
      "cell_type": "code",
      "execution_count": 24,
      "metadata": {
        "id": "3JRwKn3hCQGi",
        "outputId": "bb69b029-90e7-46e8-b4f5-a00485ef015a",
        "colab": {
          "base_uri": "https://localhost:8080/"
        }
      },
      "outputs": [
        {
          "output_type": "stream",
          "name": "stdout",
          "text": [
            "Dimensions de x_train : (6700, 6)\n",
            "Dimensions de x_test : (3300, 6)\n",
            "Dimensions de y_train : (6700,)\n",
            "Dimensions de y_test : (3300,)\n"
          ]
        }
      ],
      "source": [
        "x_train, x_test, y_train, y_test = train_test_split(features_encoded, target, test_size=0.33, random_state=42)\n",
        "# Affichage des dimensions de données\n",
        "print(\"Dimensions de x_train :\", x_train.shape)\n",
        "print(\"Dimensions de x_test :\", x_test.shape)\n",
        "print(\"Dimensions de y_train :\", y_train.shape)\n",
        "print(\"Dimensions de y_test :\", y_test.shape)"
      ]
    },
    {
      "cell_type": "markdown",
      "metadata": {
        "id": "BkOeNpjHCQGj"
      },
      "source": [
        "Entraîner le nouveau model et afficher les métriques obtenues.\n"
      ]
    },
    {
      "cell_type": "code",
      "execution_count": 29,
      "metadata": {
        "id": "fFs83rRaCQGj",
        "outputId": "abc7eef6-99f4-4f23-e9a3-c304d8825c5e",
        "colab": {
          "base_uri": "https://localhost:8080/"
        }
      },
      "outputs": [
        {
          "output_type": "stream",
          "name": "stdout",
          "text": [
            "Intercept : 13.819866044102403\n",
            "Coefficients des variables :\n",
            "Humidity : -8.438203498596948\n",
            "Rain : 5.786238350484137\n",
            "Wind_Speed_kmh : -0.06933866010580303\n",
            "Description_Cold : -9.295693211664174\n",
            "Description_Normal : -0.6974936157070534\n",
            "Description_Warm : 9.993186827371247\n",
            "Temperature =  13.819866044102403 + -8.438203498596948 x Humidity\n"
          ]
        }
      ],
      "source": [
        "model = LinearRegression()\n",
        "model.fit(x_train, y_train)\n",
        "\n",
        "# Prédictions\n",
        "y_pred = model.predict(x_test)\n",
        "\n",
        "intercept = model.intercept_\n",
        "coeffs = model.coef_\n",
        "\n",
        "# Afficher les résultats\n",
        "print('Intercept :', intercept)\n",
        "print('Coefficients des variables :')\n",
        "\n",
        "# Afficher les coefficients pour chaque feature\n",
        "for feature_name, coef in zip(features_encoded.columns, coeffs):\n",
        "    print(f'{feature_name} : {coef}')\n",
        "\n",
        "print('Temperature = ', intercept, '+' , coeffs[0], 'x Humidity')\n"
      ]
    },
    {
      "cell_type": "code",
      "execution_count": 27,
      "metadata": {
        "id": "yo6zBbrVCQGj",
        "outputId": "d7adbe02-07c8-4e33-d919-0ca3be2f30fe",
        "colab": {
          "base_uri": "https://localhost:8080/"
        }
      },
      "outputs": [
        {
          "output_type": "stream",
          "name": "stdout",
          "text": [
            "MAE=2.851\n",
            "RMSE=3.502 \t MSE=12.262 \n",
            "R2=0.859\n",
            "Explained Variance=0.859\n"
          ]
        }
      ],
      "source": [
        "mae = mean_absolute_error ( y_test , y_pred )\n",
        "\n",
        "mse = mean_squared_error ( y_test , y_pred )\n",
        "rmse = sqrt(mse)\n",
        "\n",
        "\n",
        "r2 = r2_score ( y_test , y_pred )\n",
        "\n",
        "\n",
        "expvar = explained_variance_score ( y_test , y_pred )\n",
        "\n",
        "print ('MAE={:.3f}'.format(mae) )\n",
        "print ('RMSE={0:.3f} \\t MSE={1:.3f} '.format(rmse, mse) )\n",
        "print ('R2={:.3f}'.format(r2) )\n",
        "print ('Explained Variance={:.3f}'.format(expvar))"
      ]
    },
    {
      "cell_type": "markdown",
      "source": [
        "=> Nous avons une meilleur explained variance en utilisant le modèle de régression linéaire multiple"
      ],
      "metadata": {
        "id": "zqNeGmriBAi-"
      }
    },
    {
      "cell_type": "markdown",
      "source": [
        "# Challenge\n",
        "\n",
        "On n'a pas vraiment étudié les modèles plus avancés (ARIMA, etc.) mais, si vous vous sentez en forme, essayez d'appliquer l'une de ces méthodes à cette prévision du temps."
      ],
      "metadata": {
        "id": "Xb2fsAcCCvku"
      }
    }
  ],
  "metadata": {
    "kernelspec": {
      "display_name": "Python 3 (ipykernel)",
      "language": "python",
      "name": "python3"
    },
    "language_info": {
      "codemirror_mode": {
        "name": "ipython",
        "version": 3
      },
      "file_extension": ".py",
      "mimetype": "text/x-python",
      "name": "python",
      "nbconvert_exporter": "python",
      "pygments_lexer": "ipython3",
      "version": "3.7.12"
    },
    "colab": {
      "provenance": [],
      "include_colab_link": true
    }
  },
  "nbformat": 4,
  "nbformat_minor": 0
}